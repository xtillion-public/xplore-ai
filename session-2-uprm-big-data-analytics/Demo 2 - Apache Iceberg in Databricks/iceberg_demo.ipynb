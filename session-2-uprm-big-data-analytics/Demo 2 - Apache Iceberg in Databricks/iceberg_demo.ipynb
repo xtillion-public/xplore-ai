{
 "cells": [
  {
   "cell_type": "markdown",
   "metadata": {
    "application/vnd.databricks.v1+cell": {
     "cellMetadata": {},
     "inputWidgets": {},
     "nuid": "6c5aa2dd-b1c4-4fc7-a451-7387302f85de",
     "showTitle": false,
     "tableResultSettingsMap": {},
     "title": ""
    }
   },
   "source": [
    "# Databricks Demo: Iceberg Tables\n",
    "---"
   ]
  },
  {
   "cell_type": "markdown",
   "metadata": {
    "application/vnd.databricks.v1+cell": {
     "cellMetadata": {},
     "inputWidgets": {},
     "nuid": "20def776-3ff3-4d94-9fb4-4efe37f8a9bd",
     "showTitle": false,
     "tableResultSettingsMap": {},
     "title": ""
    }
   },
   "source": [
    "## What is Apache Iceberg?\n",
    "\"Apache Iceberg is an open-source, high-performance table format for large analytical datasets in data lakes, providing database-like reliability, consistency, and features like schema evolution and time travel. It acts as a metadata layer on top of data files (like Parquet), enabling ACID transactions and simplifying data management for data lakehouse architectures by giving data lakes SQL table-like capabilities\".\n",
    "\n",
    "It's essentially an open-source table format that is efficient and compatible between different systems and platforms."
   ]
  },
  {
   "cell_type": "markdown",
   "metadata": {
    "application/vnd.databricks.v1+cell": {
     "cellMetadata": {},
     "inputWidgets": {},
     "nuid": "968f024b-12db-40f8-90de-a54272cc316a",
     "showTitle": false,
     "tableResultSettingsMap": {},
     "title": ""
    }
   },
   "source": [
    "## Setting up Databricks\n",
    "---\n"
   ]
  },
  {
   "cell_type": "markdown",
   "metadata": {
    "application/vnd.databricks.v1+cell": {
     "cellMetadata": {},
     "inputWidgets": {},
     "nuid": "f63ee71c-54ab-41be-bb45-8019714dfb9b",
     "showTitle": false,
     "tableResultSettingsMap": {},
     "title": ""
    }
   },
   "source": [
    "### Step 1: Create a Catalog\n",
    "* Databricks's fancy word for a \"database\"\n",
    "* We did this step in the Databricks UI"
   ]
  },
  {
   "cell_type": "code",
   "execution_count": 0,
   "metadata": {
    "application/vnd.databricks.v1+cell": {
     "cellMetadata": {
      "byteLimit": 2048000,
      "implicitDf": true,
      "rowLimit": 10000
     },
     "inputWidgets": {},
     "nuid": "78f0dd2c-3023-47e3-90d1-3ee977a638d8",
     "showTitle": false,
     "tableResultSettingsMap": {},
     "title": ""
    }
   },
   "outputs": [],
   "source": [
    "CREATE CATALOG IF NOT EXISTS uprm_big_data\n",
    "MANAGED LOCATION '<S3-url>';  -- Specify the path to the S3 bucket."
   ]
  },
  {
   "cell_type": "code",
   "execution_count": 0,
   "metadata": {
    "application/vnd.databricks.v1+cell": {
     "cellMetadata": {
      "byteLimit": 2048000,
      "implicitDf": true,
      "rowLimit": 10000
     },
     "inputWidgets": {},
     "nuid": "6be1889f-ba42-4beb-9429-9e1e3a16bf14",
     "showTitle": false,
     "tableResultSettingsMap": {},
     "title": ""
    }
   },
   "outputs": [],
   "source": [
    "USE CATALOG uprm_big_data;"
   ]
  },
  {
   "cell_type": "markdown",
   "metadata": {
    "application/vnd.databricks.v1+cell": {
     "cellMetadata": {},
     "inputWidgets": {},
     "nuid": "321f1d22-3a73-4028-87e3-14b5f5a0f0d9",
     "showTitle": false,
     "tableResultSettingsMap": {},
     "title": ""
    }
   },
   "source": [
    "### Step 2: Create a Schema\n",
    "* A location to hold our tables"
   ]
  },
  {
   "cell_type": "code",
   "execution_count": 0,
   "metadata": {
    "application/vnd.databricks.v1+cell": {
     "cellMetadata": {
      "byteLimit": 2048000,
      "implicitDf": true,
      "rowLimit": 10000
     },
     "inputWidgets": {},
     "nuid": "d7ad5b99-3930-4af1-8391-a72141c02fc8",
     "showTitle": false,
     "tableResultSettingsMap": {},
     "title": ""
    }
   },
   "outputs": [],
   "source": [
    "CREATE SCHEMA IF NOT EXISTS bad_bunny;\n",
    "USE SCHEMA bad_bunny;"
   ]
  },
  {
   "cell_type": "markdown",
   "metadata": {
    "application/vnd.databricks.v1+cell": {
     "cellMetadata": {},
     "inputWidgets": {},
     "nuid": "8220af76-2e90-492e-9a8c-41f4b63ab328",
     "showTitle": false,
     "tableResultSettingsMap": {},
     "title": ""
    }
   },
   "source": [
    "## Creating an Iceberg table\n",
    "---"
   ]
  },
  {
   "cell_type": "markdown",
   "metadata": {
    "application/vnd.databricks.v1+cell": {
     "cellMetadata": {},
     "inputWidgets": {},
     "nuid": "f15c089a-44b2-4a7f-904a-d20d26064131",
     "showTitle": false,
     "tableResultSettingsMap": {},
     "title": ""
    }
   },
   "source": [
    "### Step 1: Getting data\n",
    "* We used a tool like the [Youtube Scraper Agent](https://console.apify.com/actors/h7sDV53CddomktSi5/information/latest/readme) from [Apify](https://apify.com/) to get metadata from videos.\n",
    "  * For this example, we are using Bad Bunny music videos.\n",
    "* Then, we get the generated JSON outputs from the scraper and put them in an [Amazon S3](https://aws.amazon.com/s3/$0) bucket."
   ]
  },
  {
   "cell_type": "markdown",
   "metadata": {
    "application/vnd.databricks.v1+cell": {
     "cellMetadata": {},
     "inputWidgets": {},
     "nuid": "580039e8-ae2c-4646-8e08-25fcd9c2f203",
     "showTitle": false,
     "tableResultSettingsMap": {},
     "title": ""
    }
   },
   "source": [
    "### Step 2: Reading JSONs with Databricks"
   ]
  },
  {
   "cell_type": "code",
   "execution_count": 0,
   "metadata": {
    "application/vnd.databricks.v1+cell": {
     "cellMetadata": {
      "byteLimit": 2048000,
      "implicitDf": true,
      "rowLimit": 10000
     },
     "inputWidgets": {},
     "nuid": "6d1560c8-0ec1-4414-9327-f248d4e64266",
     "showTitle": false,
     "tableResultSettingsMap": {},
     "title": ""
    }
   },
   "outputs": [],
   "source": [
    "-- Creates a temp view of the JSON files\n",
    "CREATE OR REPLACE TEMP VIEW v_mv_metadata\n",
    "USING json\n",
    "OPTIONS (\n",
    "  path 's3://uprm-2025-demo-yelp/bad_bunny_mv_metadata/'\n",
    "  , multiLine 'true'                -- Important if JSON spans multiple lines or arrays\n",
    "  , escapeInvalidCharacters 'true'\n",
    ");"
   ]
  },
  {
   "cell_type": "markdown",
   "metadata": {
    "application/vnd.databricks.v1+cell": {
     "cellMetadata": {},
     "inputWidgets": {},
     "nuid": "0fce5430-1492-46d0-a151-07a57d39bf23",
     "showTitle": false,
     "tableResultSettingsMap": {},
     "title": ""
    }
   },
   "source": [
    "### Step 3: Turning the JSON into an Iceberg table"
   ]
  },
  {
   "cell_type": "code",
   "execution_count": 0,
   "metadata": {
    "application/vnd.databricks.v1+cell": {
     "cellMetadata": {
      "byteLimit": 2048000,
      "implicitDf": true,
      "rowLimit": 10000
     },
     "inputWidgets": {},
     "nuid": "5f34f637-a003-47a7-a3c0-9317aa267c3e",
     "showTitle": false,
     "tableResultSettingsMap": {},
     "title": ""
    },
    "jupyter": {
     "outputs_hidden": true
    }
   },
   "outputs": [],
   "source": [
    "CREATE OR REPLACE TABLE mv_metadata\n",
    "USING ICEBERG  -- Table format (Delta by default)\n",
    "TBLPROPERTIES ('format-version' = '2')  -- enable Iceberg v2 features\n",
    "AS\n",
    "SELECT * FROM v_mv_metadata;"
   ]
  },
  {
   "cell_type": "markdown",
   "metadata": {
    "application/vnd.databricks.v1+cell": {
     "cellMetadata": {},
     "inputWidgets": {},
     "nuid": "247de6c8-7e55-437f-80cf-f01a4fa927f1",
     "showTitle": false,
     "tableResultSettingsMap": {},
     "title": ""
    }
   },
   "source": [
    "**Previewing the table:**"
   ]
  },
  {
   "cell_type": "code",
   "execution_count": 0,
   "metadata": {
    "application/vnd.databricks.v1+cell": {
     "cellMetadata": {
      "byteLimit": 2048000,
      "rowLimit": 10000
     },
     "inputWidgets": {},
     "nuid": "125b2df1-93cc-4ff7-b1ed-e02dc0df3ad3",
     "showTitle": false,
     "tableResultSettingsMap": {},
     "title": ""
    }
   },
   "outputs": [],
   "source": [
    "SELECT * FROM bad_bunny.mv_metadata;"
   ]
  },
  {
   "cell_type": "markdown",
   "metadata": {
    "application/vnd.databricks.v1+cell": {
     "cellMetadata": {},
     "inputWidgets": {},
     "nuid": "7e96fc42-26bb-4d48-ad81-b984db52811e",
     "showTitle": false,
     "tableResultSettingsMap": {},
     "title": ""
    }
   },
   "source": [
    "## Features of Iceberg tables\n",
    "---"
   ]
  },
  {
   "cell_type": "markdown",
   "metadata": {
    "application/vnd.databricks.v1+cell": {
     "cellMetadata": {},
     "inputWidgets": {},
     "nuid": "239aa3db-b469-470c-9825-6c07285702b2",
     "showTitle": false,
     "tableResultSettingsMap": {},
     "title": ""
    }
   },
   "source": [
    "Apache Iceberg is like a “universal data table format” that allows many different data tools and clouds to share the same data safely and efficiently."
   ]
  },
  {
   "cell_type": "markdown",
   "metadata": {
    "application/vnd.databricks.v1+cell": {
     "cellMetadata": {},
     "inputWidgets": {},
     "nuid": "56631547-9fa8-4c9a-a93a-28c9e9945af6",
     "showTitle": false,
     "tableResultSettingsMap": {},
     "title": ""
    }
   },
   "source": [
    "### - Exploring table properties\n",
    "Here we can see attributes related to the table, like:\n",
    "* Column names, thier data types, and any commnets attached to them\n",
    "* Detailed table information (metadata)"
   ]
  },
  {
   "cell_type": "code",
   "execution_count": 0,
   "metadata": {
    "application/vnd.databricks.v1+cell": {
     "cellMetadata": {
      "byteLimit": 2048000,
      "rowLimit": 10000
     },
     "inputWidgets": {},
     "nuid": "625d8d49-76b8-4621-9962-1ec4437e7786",
     "showTitle": false,
     "tableResultSettingsMap": {},
     "title": ""
    }
   },
   "outputs": [],
   "source": [
    "DESCRIBE bad_bunny.mv_metadata;  -- See attributes and data types"
   ]
  },
  {
   "cell_type": "code",
   "execution_count": 0,
   "metadata": {
    "application/vnd.databricks.v1+cell": {
     "cellMetadata": {
      "byteLimit": 2048000,
      "implicitDf": true,
      "rowLimit": 10000
     },
     "inputWidgets": {},
     "nuid": "ef3501a4-9079-4580-a6a5-a0c2465bc2cc",
     "showTitle": false,
     "tableResultSettingsMap": {},
     "title": ""
    }
   },
   "outputs": [],
   "source": [
    "DESCRIBE EXTENDED bad_bunny.mv_metadata;  -- See columns and metadata"
   ]
  },
  {
   "cell_type": "markdown",
   "metadata": {
    "application/vnd.databricks.v1+cell": {
     "cellMetadata": {},
     "inputWidgets": {},
     "nuid": "1b2c1491-4dd3-44b6-8b10-af64b7ce27b1",
     "showTitle": false,
     "tableResultSettingsMap": {},
     "title": ""
    }
   },
   "source": [
    "### - Time Travel\n",
    "One of the most useful features Iceberg provides is _time traveling_! i.e., **version history**\n",
    "\n",
    "Just like a version control system tool like Git, you can keep track of the different versions of a table based on each time it is changed. This includes:\n",
    "* Replacing the table\n",
    "* Create, update, delete operations\n",
    "* Insertions or merges\n",
    "* Truncations\n",
    "* Among other mutating SQL operations"
   ]
  },
  {
   "cell_type": "markdown",
   "metadata": {
    "application/vnd.databricks.v1+cell": {
     "cellMetadata": {},
     "inputWidgets": {},
     "nuid": "b50f48c6-30ad-4ef9-9a6b-cabcf652f569",
     "showTitle": false,
     "tableResultSettingsMap": {},
     "title": ""
    }
   },
   "source": [
    "#### Looking at the table history"
   ]
  },
  {
   "cell_type": "code",
   "execution_count": 0,
   "metadata": {
    "application/vnd.databricks.v1+cell": {
     "cellMetadata": {
      "byteLimit": 2048000,
      "implicitDf": true,
      "rowLimit": 10000
     },
     "inputWidgets": {},
     "nuid": "82c3366d-5a61-414a-836b-f13d704b517f",
     "showTitle": false,
     "tableResultSettingsMap": {},
     "title": ""
    }
   },
   "outputs": [],
   "source": [
    "DESCRIBE HISTORY bad_bunny.mv_metadata;"
   ]
  },
  {
   "cell_type": "markdown",
   "metadata": {
    "application/vnd.databricks.v1+cell": {
     "cellMetadata": {},
     "inputWidgets": {},
     "nuid": "ebdc6bc2-c9da-4457-becd-e70b2ce2c036",
     "showTitle": false,
     "tableResultSettingsMap": {},
     "title": ""
    }
   },
   "source": [
    "#### Trying out the versions!"
   ]
  },
  {
   "cell_type": "code",
   "execution_count": 0,
   "metadata": {
    "application/vnd.databricks.v1+cell": {
     "cellMetadata": {
      "byteLimit": 2048000,
      "rowLimit": 10000
     },
     "inputWidgets": {},
     "nuid": "bbe0fa35-3c8f-4ddb-b41c-8db2eeb303e7",
     "showTitle": false,
     "tableResultSettingsMap": {},
     "title": ""
    }
   },
   "outputs": [],
   "source": [
    "-- Preview Schema\n",
    "SELECT * FROM bad_bunny.mv_metadata LIMIT 5;"
   ]
  },
  {
   "cell_type": "markdown",
   "metadata": {
    "application/vnd.databricks.v1+cell": {
     "cellMetadata": {},
     "inputWidgets": {},
     "nuid": "c1e855e0-1aeb-472a-a85b-8777bbd77d9f",
     "showTitle": false,
     "tableResultSettingsMap": {},
     "title": ""
    }
   },
   "source": [
    "* Since we know all the videos here are from Bad Bunny, we don't really care about the `channelId`, `channelName`, or `channelUsername` columns. So, we could drop them."
   ]
  },
  {
   "cell_type": "code",
   "execution_count": 0,
   "metadata": {
    "application/vnd.databricks.v1+cell": {
     "cellMetadata": {
      "byteLimit": 2048000,
      "rowLimit": 10000
     },
     "inputWidgets": {},
     "nuid": "d48bb6de-dfea-4164-9a3f-a3bc593be509",
     "showTitle": false,
     "tableResultSettingsMap": {
      "0": {
       "dataGridStateBlob": "{\"version\":1,\"tableState\":{\"columnPinning\":{\"left\":[\"#row_number#\"],\"right\":[]},\"columnSizing\":{},\"columnVisibility\":{}},\"settings\":{\"columns\":{\"fromYTUrl\":{\"format\":{\"preset\":\"string-preset-url\"}},\"input\":{\"format\":{\"preset\":\"string-preset-url\"}},\"thumbnailUrl\":{\"format\":{\"preset\":\"string-preset-url\"}},\"url\":{\"format\":{\"preset\":\"string-preset-url\"}}}},\"syncTimestamp\":1759932138596}",
       "filterBlob": null,
       "queryPlanFiltersBlob": null,
       "tableResultIndex": 0
      }
     },
     "title": ""
    }
   },
   "outputs": [],
   "source": [
    "-- Drop columns\n",
    "ALTER TABLE bad_bunny.mv_metadata DROP COLUMNS (channelId, channelName, channelUrl, channelUsername);\n",
    "\n",
    "-- Preview schema\n",
    "SELECT * FROM bad_bunny.mv_metadata LIMIT 5;"
   ]
  },
  {
   "cell_type": "markdown",
   "metadata": {
    "application/vnd.databricks.v1+cell": {
     "cellMetadata": {},
     "inputWidgets": {},
     "nuid": "d38725c5-2076-4648-b0b3-a90fbde88a96",
     "showTitle": false,
     "tableResultSettingsMap": {},
     "title": ""
    }
   },
   "source": [
    "* We can see the table no longer has the columns. **But what if we wanted to restore them?**\n",
    "* Here is where we can use time travel!"
   ]
  },
  {
   "cell_type": "code",
   "execution_count": 0,
   "metadata": {
    "application/vnd.databricks.v1+cell": {
     "cellMetadata": {
      "byteLimit": 2048000,
      "rowLimit": 10000
     },
     "inputWidgets": {},
     "nuid": "12fcaf5e-fabf-41c9-bba2-0053c013f053",
     "showTitle": false,
     "tableResultSettingsMap": {},
     "title": ""
    }
   },
   "outputs": [],
   "source": [
    "-- See the version history\n",
    "DESCRIBE HISTORY bad_bunny.mv_metadata;"
   ]
  },
  {
   "cell_type": "markdown",
   "metadata": {
    "application/vnd.databricks.v1+cell": {
     "cellMetadata": {},
     "inputWidgets": {},
     "nuid": "80d1fc3a-ceff-4480-a002-5e9162731074",
     "showTitle": false,
     "tableResultSettingsMap": {},
     "title": ""
    }
   },
   "source": [
    "* Above, we can see the different verions, their date, and what operation generated that version.\n",
    "* Below, we can see the previous version of the table."
   ]
  },
  {
   "cell_type": "code",
   "execution_count": 0,
   "metadata": {
    "application/vnd.databricks.v1+cell": {
     "cellMetadata": {
      "byteLimit": 2048000,
      "rowLimit": 10000
     },
     "inputWidgets": {},
     "nuid": "a3308ee2-f95a-49f3-9ee7-e961f17d5a37",
     "showTitle": false,
     "tableResultSettingsMap": {},
     "title": ""
    }
   },
   "outputs": [],
   "source": [
    "-- Query the table version you need\n",
    "SELECT * FROM bad_bunny.mv_metadata VERSION AS OF 3 LIMIT 5;\n",
    "\n",
    "-- You could also query versions by timestamp:\n",
    "-- SELECT * FROM bad_bunny.mv_metadata TIMESTAMP AS OF '2025-10-08' LIMIT 5;"
   ]
  }
 ],
 "metadata": {
  "application/vnd.databricks.v1+notebook": {
   "computePreferences": null,
   "dashboards": [],
   "environmentMetadata": {
    "base_environment": "",
    "environment_version": "3"
   },
   "inputWidgetPreferences": null,
   "language": "sql",
   "notebookMetadata": {
    "mostRecentlyExecutedCommandWithImplicitDF": {
     "commandId": -1,
     "dataframes": [
      "_sqldf"
     ]
    },
    "pythonIndentUnit": 4
   },
   "notebookName": "iceberg_demo",
   "widgets": {}
  },
  "language_info": {
   "name": "sql"
  }
 },
 "nbformat": 4,
 "nbformat_minor": 0
}
