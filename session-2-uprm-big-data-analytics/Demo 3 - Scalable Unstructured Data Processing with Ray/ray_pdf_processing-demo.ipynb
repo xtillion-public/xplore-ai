{
 "cells": [
  {
   "cell_type": "code",
   "execution_count": 1,
   "metadata": {},
   "outputs": [
    {
     "name": "stdout",
     "output_type": "stream",
     "text": [
      "Requirement already satisfied: ray in /Users/omarjimenez/anaconda3/lib/python3.11/site-packages (2.48.0)\n",
      "Collecting pdfplumber\n",
      "  Downloading pdfplumber-0.11.7-py3-none-any.whl.metadata (42 kB)\n",
      "Requirement already satisfied: matplotlib in /Users/omarjimenez/anaconda3/lib/python3.11/site-packages (3.10.6)\n",
      "Requirement already satisfied: click>=7.0 in /Users/omarjimenez/anaconda3/lib/python3.11/site-packages (from ray) (8.0.4)\n",
      "Requirement already satisfied: filelock in /Users/omarjimenez/anaconda3/lib/python3.11/site-packages (from ray) (3.16.1)\n",
      "Requirement already satisfied: jsonschema in /Users/omarjimenez/anaconda3/lib/python3.11/site-packages (from ray) (4.25.0)\n",
      "Requirement already satisfied: msgpack<2.0.0,>=1.0.0 in /Users/omarjimenez/anaconda3/lib/python3.11/site-packages (from ray) (1.0.3)\n",
      "Requirement already satisfied: packaging in /Users/omarjimenez/anaconda3/lib/python3.11/site-packages (from ray) (24.2)\n",
      "Requirement already satisfied: protobuf!=3.19.5,>=3.15.3 in /Users/omarjimenez/anaconda3/lib/python3.11/site-packages (from ray) (6.31.1)\n",
      "Requirement already satisfied: pyyaml in /Users/omarjimenez/anaconda3/lib/python3.11/site-packages (from ray) (6.0)\n",
      "Requirement already satisfied: requests in /Users/omarjimenez/anaconda3/lib/python3.11/site-packages (from ray) (2.31.0)\n",
      "Collecting pdfminer.six==20250506 (from pdfplumber)\n",
      "  Downloading pdfminer_six-20250506-py3-none-any.whl.metadata (4.2 kB)\n",
      "Requirement already satisfied: Pillow>=9.1 in /Users/omarjimenez/anaconda3/lib/python3.11/site-packages (from pdfplumber) (11.3.0)\n",
      "Collecting pypdfium2>=4.18.0 (from pdfplumber)\n",
      "  Downloading pypdfium2-4.30.0-py3-none-macosx_11_0_arm64.whl.metadata (48 kB)\n",
      "Requirement already satisfied: charset-normalizer>=2.0.0 in /Users/omarjimenez/anaconda3/lib/python3.11/site-packages (from pdfminer.six==20250506->pdfplumber) (2.0.4)\n",
      "Requirement already satisfied: cryptography>=36.0.0 in /Users/omarjimenez/anaconda3/lib/python3.11/site-packages (from pdfminer.six==20250506->pdfplumber) (41.0.3)\n",
      "Requirement already satisfied: contourpy>=1.0.1 in /Users/omarjimenez/anaconda3/lib/python3.11/site-packages (from matplotlib) (1.0.5)\n",
      "Requirement already satisfied: cycler>=0.10 in /Users/omarjimenez/anaconda3/lib/python3.11/site-packages (from matplotlib) (0.11.0)\n",
      "Requirement already satisfied: fonttools>=4.22.0 in /Users/omarjimenez/anaconda3/lib/python3.11/site-packages (from matplotlib) (4.25.0)\n",
      "Requirement already satisfied: kiwisolver>=1.3.1 in /Users/omarjimenez/anaconda3/lib/python3.11/site-packages (from matplotlib) (1.4.4)\n",
      "Requirement already satisfied: numpy>=1.23 in /Users/omarjimenez/anaconda3/lib/python3.11/site-packages (from matplotlib) (1.26.4)\n",
      "Requirement already satisfied: pyparsing>=2.3.1 in /Users/omarjimenez/anaconda3/lib/python3.11/site-packages (from matplotlib) (3.0.9)\n",
      "Requirement already satisfied: python-dateutil>=2.7 in /Users/omarjimenez/anaconda3/lib/python3.11/site-packages (from matplotlib) (2.8.2)\n",
      "Requirement already satisfied: cffi>=1.12 in /Users/omarjimenez/anaconda3/lib/python3.11/site-packages (from cryptography>=36.0.0->pdfminer.six==20250506->pdfplumber) (1.15.1)\n",
      "Requirement already satisfied: pycparser in /Users/omarjimenez/anaconda3/lib/python3.11/site-packages (from cffi>=1.12->cryptography>=36.0.0->pdfminer.six==20250506->pdfplumber) (2.21)\n",
      "Requirement already satisfied: six>=1.5 in /Users/omarjimenez/anaconda3/lib/python3.11/site-packages (from python-dateutil>=2.7->matplotlib) (1.16.0)\n",
      "Requirement already satisfied: attrs>=22.2.0 in /Users/omarjimenez/anaconda3/lib/python3.11/site-packages (from jsonschema->ray) (25.3.0)\n",
      "Requirement already satisfied: jsonschema-specifications>=2023.03.6 in /Users/omarjimenez/anaconda3/lib/python3.11/site-packages (from jsonschema->ray) (2025.4.1)\n",
      "Requirement already satisfied: referencing>=0.28.4 in /Users/omarjimenez/anaconda3/lib/python3.11/site-packages (from jsonschema->ray) (0.36.2)\n",
      "Requirement already satisfied: rpds-py>=0.7.1 in /Users/omarjimenez/anaconda3/lib/python3.11/site-packages (from jsonschema->ray) (0.26.0)\n",
      "Requirement already satisfied: typing-extensions>=4.4.0 in /Users/omarjimenez/anaconda3/lib/python3.11/site-packages (from referencing>=0.28.4->jsonschema->ray) (4.15.0)\n",
      "Requirement already satisfied: idna<4,>=2.5 in /Users/omarjimenez/anaconda3/lib/python3.11/site-packages (from requests->ray) (3.4)\n",
      "Requirement already satisfied: urllib3<3,>=1.21.1 in /Users/omarjimenez/anaconda3/lib/python3.11/site-packages (from requests->ray) (1.26.16)\n",
      "Requirement already satisfied: certifi>=2017.4.17 in /Users/omarjimenez/anaconda3/lib/python3.11/site-packages (from requests->ray) (2025.7.14)\n",
      "Downloading pdfplumber-0.11.7-py3-none-any.whl (60 kB)\n",
      "Downloading pdfminer_six-20250506-py3-none-any.whl (5.6 MB)\n",
      "\u001b[2K   \u001b[90m━━━━━━━━━━━━━━━━━━━━━━━━━━━━━━━━━━━━━━━━\u001b[0m \u001b[32m5.6/5.6 MB\u001b[0m \u001b[31m14.1 MB/s\u001b[0m  \u001b[33m0:00:00\u001b[0m eta \u001b[36m0:00:01\u001b[0m\n",
      "\u001b[?25hDownloading pypdfium2-4.30.0-py3-none-macosx_11_0_arm64.whl (2.7 MB)\n",
      "\u001b[2K   \u001b[90m━━━━━━━━━━━━━━━━━━━━━━━━━━━━━━━━━━━━━━━━\u001b[0m \u001b[32m2.7/2.7 MB\u001b[0m \u001b[31m17.4 MB/s\u001b[0m  \u001b[33m0:00:00\u001b[0m\n",
      "\u001b[?25hInstalling collected packages: pypdfium2, pdfminer.six, pdfplumber\n",
      "\u001b[2K   \u001b[90m━━━━━━━━━━━━━━━━━━━━━━━━━━━━━━━━━━━━━━━━\u001b[0m \u001b[32m3/3\u001b[0m [pdfplumber]3\u001b[0m [pdfminer.six]\n",
      "\u001b[1A\u001b[2KSuccessfully installed pdfminer.six-20250506 pdfplumber-0.11.7 pypdfium2-4.30.0\n"
     ]
    }
   ],
   "source": [
    "!pip install ray pdfplumber matplotlib"
   ]
  },
  {
   "cell_type": "markdown",
   "metadata": {},
   "source": [
    "# Demo #3: Scalable Unstructured Data Processing"
   ]
  },
  {
   "cell_type": "code",
   "execution_count": 5,
   "metadata": {},
   "outputs": [
    {
     "name": "stderr",
     "output_type": "stream",
     "text": [
      "2025-10-06 19:17:47,539\tINFO worker.py:1927 -- Started a local Ray instance.\n"
     ]
    },
    {
     "name": "stdout",
     "output_type": "stream",
     "text": [
      "Serial Python runtime: 17.77 s\n",
      "Ray runtime: 2.86 s\n"
     ]
    },
    {
     "data": {
      "image/png": "[encoded data removed]",
      "text/plain": [
       "<Figure size 600x400 with 1 Axes>"
      ]
     },
     "metadata": {},
     "output_type": "display_data"
    }
   ],
   "source": [
    "import time\n",
    "import ray\n",
    "import pdfplumber\n",
    "import matplotlib.pyplot as plt\n",
    "\n",
    "def parse_pdf(pdf_path: str):\n",
    "    with pdfplumber.open(pdf_path) as pdf:\n",
    "        text = \"\"\n",
    "        for page in pdf.pages:\n",
    "            text += page.extract_text() or \"\"\n",
    "    return len(text)\n",
    "\n",
    "def run_serial(pdf_path: str, n: int = 100):\n",
    "    start = time.time()\n",
    "    for _ in range(n):\n",
    "        _ = parse_pdf(pdf_path)\n",
    "    return time.time() - start\n",
    "\n",
    "\n",
    "# This decorator makes the function something called a Ray Task!\n",
    "@ray.remote\n",
    "def parse_pdf_ray(pdf_path: str):\n",
    "    return parse_pdf(pdf_path)\n",
    "\n",
    "def run_ray(pdf_path: str, n: int = 100):\n",
    "    start = time.time()\n",
    "    futures = [parse_pdf_ray.remote(pdf_path) for _ in range(n)]\n",
    "    _ = ray.get(futures)\n",
    "    return time.time() - start\n",
    "\n",
    "pdf_file = \"sample.pdf\"\n",
    "N = 100\n",
    "\n",
    "# This will initialize a Ray cluster. Locally this is easy (one node),\n",
    "# for a true distributed setup see notes below.\n",
    "ray.init(ignore_reinit_error=True, include_dashboard=False)\n",
    "\n",
    "serial_time = run_serial(pdf_file, N)\n",
    "ray_time = run_ray(pdf_file, N)\n",
    "\n",
    "ray.shutdown()\n",
    "\n",
    "print(f\"Serial Python runtime: {serial_time:.2f} s\")\n",
    "print(f\"Ray runtime: {ray_time:.2f} s\")\n",
    "\n",
    "plt.figure(figsize=(6,4))\n",
    "plt.bar([\"Serial\", \"Ray\"], [serial_time, ray_time], color=[\"gray\", \"skyblue\"])\n",
    "plt.title(\"PDF Parsing Benchmark: Serial vs Ray\")\n",
    "plt.ylabel(\"Total Runtime (seconds)\")\n",
    "plt.grid(axis='y', linestyle='--', alpha=0.6)\n",
    "plt.show()"
   ]
  },
  {
   "cell_type": "markdown",
   "metadata": {},
   "source": [
    "# Why Ray and not `multiprocessing`?\n",
    "1) Ray enables both parallel *and* distributed execution, with zero code changes!\n",
    "2) Ray abstractions (e.g., Actors) offer several advantages for stateful computation, see this article: https://medium.com/data-science/10x-faster-parallel-python-without-python-multiprocessing-e5017c93cce1\n",
    "3) Ray's "
   ]
  },
  {
   "cell_type": "markdown",
   "metadata": {},
   "source": [
    "# Deploying Ray Clusters On-Prem\n",
    "\n",
    "##### https://docs.ray.io/en/latest/cluster/vms/user-guides/launching-clusters/on-premises.html"
   ]
  },
  {
   "cell_type": "markdown",
   "metadata": {},
   "source": [
    "# Deploying Ray Clusters on the Cloud\n",
    "##### https://docs.ray.io/en/latest/cluster/vms/user-guides/launching-clusters/aws.html\n",
    "##### https://docs.ray.io/en/latest/cluster/vms/user-guides/launching-clusters/azure.html\n",
    "##### https://docs.ray.io/en/latest/cluster/vms/user-guides/launching-clusters/gcp.html"
   ]
  }
 ],
 "metadata": {
  "kernelspec": {
   "display_name": "Python 3",
   "language": "python",
   "name": "python3"
  },
  "language_info": {
   "codemirror_mode": {
    "name": "ipython",
    "version": 3
   },
   "file_extension": ".py",
   "mimetype": "text/x-python",
   "name": "python",
   "nbconvert_exporter": "python",
   "pygments_lexer": "ipython3",
   "version": "3.11.5"
  }
 },
 "nbformat": 4,
 "nbformat_minor": 2
}
